{
  "nbformat": 4,
  "nbformat_minor": 0,
  "metadata": {
    "colab": {
      "name": "MyFirstColabNotebook.ipynb",
      "provenance": [],
      "authorship_tag": "ABX9TyNpA5gF9IT6Z7UC8cO7MMbm",
      "include_colab_link": true
    },
    "kernelspec": {
      "name": "python3",
      "display_name": "Python 3"
    }
  },
  "cells": [
    {
      "cell_type": "markdown",
      "metadata": {
        "id": "view-in-github",
        "colab_type": "text"
      },
      "source": [
        "<a href=\"https://colab.research.google.com/github/zzzzezzz/Complete-Python-3-Bootcamp/blob/master/MyFirstColabNotebook.ipynb\" target=\"_parent\"><img src=\"https://colab.research.google.com/assets/colab-badge.svg\" alt=\"Open In Colab\"/></a>"
      ]
    },
    {
      "cell_type": "code",
      "metadata": {
        "id": "-TnBNmes9dUy",
        "colab_type": "code",
        "colab": {
          "base_uri": "https://localhost:8080/",
          "height": 34
        },
        "outputId": "e11b0d89-f50e-4c09-d79b-3bba18d74661"
      },
      "source": [
        "import time\n",
        "print(time.ctime())"
      ],
      "execution_count": 1,
      "outputs": [
        {
          "output_type": "stream",
          "text": [
            "Thu Jul  2 00:47:40 2020\n"
          ],
          "name": "stdout"
        }
      ]
    },
    {
      "cell_type": "code",
      "metadata": {
        "id": "96Q6SsMl-xXw",
        "colab_type": "code",
        "colab": {
          "base_uri": "https://localhost:8080/",
          "height": 34
        },
        "outputId": "2869210e-5eba-444f-b0d4-e582b0b846f6"
      },
      "source": [
        "time.sleep(5)\n",
        "print(time.ctime())"
      ],
      "execution_count": 2,
      "outputs": [
        {
          "output_type": "stream",
          "text": [
            "Thu Jul  2 00:47:46 2020\n"
          ],
          "name": "stdout"
        }
      ]
    },
    {
      "cell_type": "code",
      "metadata": {
        "id": "na_0pPw5-_hH",
        "colab_type": "code",
        "colab": {}
      },
      "source": [
        ""
      ],
      "execution_count": 2,
      "outputs": []
    },
    {
      "cell_type": "markdown",
      "metadata": {
        "id": "bfDi6ulwjYRd",
        "colab_type": "text"
      },
      "source": [
        "This is **Bold**\n",
        "This is *italics*\n",
        "This is ~strikethrough~"
      ]
    },
    {
      "cell_type": "markdown",
      "metadata": {
        "id": "Js3-LKrvj3ed",
        "colab_type": "text"
      },
      "source": [
        "$\\sqrt{3x-1}+(1+x)^2$"
      ]
    },
    {
      "cell_type": "markdown",
      "metadata": {
        "id": "qR4LsZXRkEdz",
        "colab_type": "text"
      },
      "source": [
        "$e^x = \\sum_{i = 0}^\\infty \\frac{1}{i!}x^i$"
      ]
    },
    {
      "cell_type": "markdown",
      "metadata": {
        "id": "2m2iv-3QkoAu",
        "colab_type": "text"
      },
      "source": [
        "Constraints are\n",
        "   - $3x_1 + 6x_2 + x_3 =< 28$\n",
        "   - $7x_1 + 3x_2 + 2x_3 =< 37$\n",
        "   - $4x_1 + 5x_2 + 2x_3 =< 19$\n",
        "   - $x_1,x_2,x_3 >=0 $\n",
        "\n",
        "The trial vector is calculated as follows:\n",
        "- $u_i(t) = x_i(t) + \\beta(\\hat{x}(t) − x_i(t)) + \\beta \\sum_{k = 1}^{n_v}(x_{i1,k}(t) − x_{i2,k}(t))$\n",
        "$f(x_1, x_2) = 20 + e - 20exp(-0.2 \\sqrt {\\frac {1}{n} (x_1^2 + x_2^2)}) - exp (\\frac {1}{n}(cos(2\\pi x_1) + cos(2\\pi x_2))$\n",
        "\n",
        "$x ∈ [-5, 5]$\n",
        ">$A_{m,n} =\n",
        "   \\begin{pmatrix}\n",
        "   a_{1,1} > a_{1,2} > \\cdots > a_{1,n} \\\\\n",
        "   a_{2,1} > a_{2,2} > \\cdots > a_{2,n} \\\\\n",
        "   \\vdots > \\vdots > \\ddots > \\vdots \\\\\n",
        "   a_{m,1} > a_{m,2} > \\cdots > a_{m,n}\n",
        "   \\end{pmatrix}$"
      ]
    },
    {
      "cell_type": "code",
      "metadata": {
        "id": "RsjFCr76kzJL",
        "colab_type": "code",
        "colab": {}
      },
      "source": [
        ""
      ],
      "execution_count": null,
      "outputs": []
    }
  ]
}